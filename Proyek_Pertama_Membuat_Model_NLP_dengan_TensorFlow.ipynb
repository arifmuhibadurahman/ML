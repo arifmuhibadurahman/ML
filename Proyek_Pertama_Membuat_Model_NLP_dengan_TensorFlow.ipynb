{
  "cells": [
    {
      "cell_type": "markdown",
      "metadata": {
        "id": "r8ovPae7zO1l"
      },
      "source": [
        "\n",
        "# **NAMA : Arif Muhammad Ibadurahman**\n",
        "# **LINK : https://www.dicoding.com/users/arifmuhammaad/academies**"
      ]
    },
    {
      "cell_type": "code",
      "execution_count": 2,
      "metadata": {
        "id": "jz2YehCEyCTh"
      },
      "outputs": [],
      "source": [
        "#import beberapa library yang diperlukan\n",
        "import pandas as pd\n",
        "import numpy as np\n",
        "import os\n",
        "import matplotlib.pyplot as plt\n",
        "%matplotlib inline\n",
        "\n",
        "from google.colab import files\n",
        "\n",
        "import tensorflow as tf\n",
        "from tensorflow.keras.preprocessing.text import Tokenizer\n",
        "from tensorflow.keras.preprocessing.sequence import pad_sequences\n",
        "from sklearn.model_selection import train_test_split\n",
        "from sklearn.metrics import confusion_matrix\n",
        "from keras.callbacks import ModelCheckpoint, EarlyStopping, ReduceLROnPlateau\n",
        "from sklearn.model_selection import train_test_split\n",
        "from tensorflow.keras.models import Sequential\n",
        "from tensorflow.keras.layers import Embedding, LSTM, Dense\n",
        "\n",
        "\n",
        "import nltk\n",
        "from nltk.util import ngrams\n",
        "from nltk.corpus import stopwords\n",
        "from nltk.tokenize import word_tokenize\n",
        "from nltk.stem import WordNetLemmatizer"
      ]
    },
    {
      "cell_type": "code",
      "execution_count": 21,
      "metadata": {
        "colab": {
          "base_uri": "https://localhost:8080/"
        },
        "id": "ctc96NBIlLPo",
        "outputId": "4bd4e09c-18b6-450b-c005-d16e5b637a0b"
      },
      "outputs": [
        {
          "output_type": "stream",
          "name": "stdout",
          "text": [
            "Data size:\n",
            "2225 rows\n",
            "2 columns\n",
            "\n",
            "<class 'pandas.core.frame.DataFrame'>\n",
            "RangeIndex: 2225 entries, 0 to 2224\n",
            "Data columns (total 2 columns):\n",
            " #   Column    Non-Null Count  Dtype \n",
            "---  ------    --------------  ----- \n",
            " 0   category  2225 non-null   object\n",
            " 1   text      2225 non-null   object\n",
            "dtypes: object(2)\n",
            "memory usage: 34.9+ KB\n"
          ]
        }
      ],
      "source": [
        "# Fungsi untuk membaca dataset kolom dan baris nya\n",
        "def read_dataset(file_path='bbc-text.csv'):\n",
        "    df = pd.read_csv(file_path)\n",
        "\n",
        "    # Melihat jumlah kolom dan baris data\n",
        "    print(f'Data size:\\n{df.shape[0]} rows\\n{df.shape[1]} columns\\n')\n",
        "\n",
        "    # Menampilkan informasi data yang digunakan\n",
        "    df.info()\n",
        "\n",
        "    return df\n",
        "\n",
        "# Panggil fungsi untuk membaca dataset\n",
        "data_frame = read_dataset()\n"
      ]
    },
    {
      "cell_type": "code",
      "execution_count": 22,
      "metadata": {
        "colab": {
          "base_uri": "https://localhost:8080/"
        },
        "id": "SQUFVjaMmDUz",
        "outputId": "969fb721-458c-4404-abce-626b64643fab"
      },
      "outputs": [
        {
          "output_type": "stream",
          "name": "stdout",
          "text": [
            "                                                   text  business  \\\n",
            "0     tv future in the hands of viewers with home th...         0   \n",
            "1     worldcom boss  left books alone  former worldc...         1   \n",
            "2     tigers wary of farrell  gamble  leicester say ...         0   \n",
            "3     yeading face newcastle in fa cup premiership s...         0   \n",
            "4     ocean s twelve raids box office ocean s twelve...         0   \n",
            "...                                                 ...       ...   \n",
            "2220  cars pull down us retail figures us retail sal...         1   \n",
            "2221  kilroy unveils immigration policy ex-chatshow ...         0   \n",
            "2222  rem announce new glasgow concert us band rem h...         0   \n",
            "2223  how political squabbles snowball it s become c...         0   \n",
            "2224  souness delight at euro progress boss graeme s...         0   \n",
            "\n",
            "      entertainment  politics  sport  tech  \n",
            "0                 0         0      0     1  \n",
            "1                 0         0      0     0  \n",
            "2                 0         0      1     0  \n",
            "3                 0         0      1     0  \n",
            "4                 1         0      0     0  \n",
            "...             ...       ...    ...   ...  \n",
            "2220              0         0      0     0  \n",
            "2221              0         1      0     0  \n",
            "2222              1         0      0     0  \n",
            "2223              0         1      0     0  \n",
            "2224              0         0      1     0  \n",
            "\n",
            "[2225 rows x 6 columns]\n"
          ]
        }
      ],
      "source": [
        "# Proses pengubahan category menjadi True dan False\n",
        "def one_hot_encode(df):\n",
        "    category = pd.get_dummies(df.category)\n",
        "    new_df = pd.concat([df, category], axis=1)\n",
        "    new_df = new_df.drop(columns='category')\n",
        "    num_classes = len(category.columns)\n",
        "    return new_df\n",
        "# Lakukan one-hot encoding di luar fungsi\n",
        "encoded_data_frame = one_hot_encode(data_frame)\n",
        "print(encoded_data_frame)"
      ]
    },
    {
      "cell_type": "code",
      "execution_count": 23,
      "metadata": {
        "id": "dIzPUOJUoGgi"
      },
      "outputs": [],
      "source": [
        "# function to get all of strings from dataframe column, and used lower function here.\n",
        "def get_all_str(df):\n",
        "    sentence = ''\n",
        "    for i in range(len(df)):\n",
        "        sentence += df['text'][i]\n",
        "    sentence = sentence.lower()\n",
        "    return sentence\n",
        "\n",
        "# fungsi untuk mendapatkan semua kata dari text, menggunakan library nltk.RegexpTokenizer\n",
        "def get_word(text):\n",
        "    result = nltk.RegexpTokenizer(r'\\w+').tokenize(text.lower())\n",
        "    return result\n",
        "\n",
        "# function to add stopwords to nltp stopword list.\n",
        "def stopword_list(stop):\n",
        "    lst = stopwords.words('english')\n",
        "    for stopword in stop:\n",
        "        lst.append(stopword)\n",
        "    return lst\n",
        "\n",
        "# function to remove stopwords from list.\n",
        "def remove_stopword(stopwords, lst):\n",
        "    stoplist = stopword_list(stopwords)\n",
        "    txt = ''\n",
        "    for idx in range(len(lst)):\n",
        "        txt += lst[idx]\n",
        "        txt += '\\n'\n",
        "    cleanwordlist = [word for word in txt.split() if word not in stoplist]\n",
        "    return cleanwordlist"
      ]
    },
    {
      "cell_type": "code",
      "execution_count": 24,
      "metadata": {
        "colab": {
          "base_uri": "https://localhost:8080/"
        },
        "id": "E0HjYQfaovL7",
        "outputId": "ed97feb4-b7e0-4981-ef47-6b063ba22162"
      },
      "outputs": [
        {
          "output_type": "stream",
          "name": "stderr",
          "text": [
            "[nltk_data] Downloading package stopwords to /root/nltk_data...\n",
            "[nltk_data]   Package stopwords is already up-to-date!\n"
          ]
        },
        {
          "output_type": "execute_result",
          "data": {
            "text/plain": [
              "True"
            ]
          },
          "metadata": {},
          "execution_count": 24
        }
      ],
      "source": [
        "nltk.download('stopwords')"
      ]
    },
    {
      "cell_type": "code",
      "execution_count": 25,
      "metadata": {
        "colab": {
          "base_uri": "https://localhost:8080/"
        },
        "id": "YLnsqD1-p_yJ",
        "outputId": "56c1909e-364e-4c90-f176-ee69d6855f9c"
      },
      "outputs": [
        {
          "output_type": "stream",
          "name": "stdout",
          "text": [
            "['tv', 'future', 'hands', 'viewers', 'home', 'theatre', 'systems', 'plasma', 'high', 'definition']\n"
          ]
        }
      ],
      "source": [
        "string = get_all_str(encoded_data_frame)\n",
        "words = get_word(string)\n",
        "removed = remove_stopword('1',words)\n",
        "print(removed[:10])"
      ]
    },
    {
      "cell_type": "markdown",
      "source": [
        "# Validation set sebesar 20% dari total dataset."
      ],
      "metadata": {
        "id": "qeMwjkorklV1"
      }
    },
    {
      "cell_type": "code",
      "execution_count": 26,
      "metadata": {
        "id": "SooBmINts1g_"
      },
      "outputs": [],
      "source": [
        "#membuat variabel untuk isi text dan label/kategori\n",
        "text = encoded_data_frame['text'].values\n",
        "label = encoded_data_frame[['business', 'entertainment' , 'politics',  'sport',  'tech' ]].values"
      ]
    },
    {
      "cell_type": "code",
      "execution_count": 27,
      "metadata": {
        "colab": {
          "base_uri": "https://localhost:8080/"
        },
        "id": "dYSekjC5tYVO",
        "outputId": "416987e9-02a1-44ed-8fe9-6bdb3802bed0"
      },
      "outputs": [
        {
          "output_type": "stream",
          "name": "stdout",
          "text": [
            "3570\n"
          ]
        }
      ],
      "source": [
        "#menggunakan module Sklearn untuk membagi data menjadi\n",
        "text_train, text_test, label_train, label_test = train_test_split(text, label, test_size=0.2, random_state=42)\n",
        "max_len = max([len(s.split()) for s in text_train])\n",
        "print(max_len)"
      ]
    },
    {
      "cell_type": "markdown",
      "source": [
        "# Harus menggunakan fungsi tokenizer."
      ],
      "metadata": {
        "id": "Udzuy3w2lOxi"
      }
    },
    {
      "cell_type": "code",
      "execution_count": 28,
      "metadata": {
        "id": "3JEvgkCouOS1"
      },
      "outputs": [],
      "source": [
        "#proses tokenizer\n",
        "tokenizer = Tokenizer(num_words=3570, oov_token='<oov>', filters='!\"#$%&()*+,-./:;<=>?@[\\\\]^_`{|}~\\t\\n')\n",
        "tokenizer.fit_on_texts(text_train)\n",
        "\n",
        "#sequensi sample\n",
        "sekuens_train = tokenizer.texts_to_sequences(text_train)\n",
        "sekuens_test = tokenizer.texts_to_sequences(text_test)\n",
        "\n",
        "#padding sequen\n",
        "padded_train = pad_sequences(sekuens_train, padding='post', maxlen=max_len, truncating='post')\n",
        "padded_test = pad_sequences(sekuens_test, padding='post', maxlen=max_len, truncating='post')"
      ]
    },
    {
      "cell_type": "markdown",
      "source": [
        "# Harus menggunakan LSTM dalam arsitektur model."
      ],
      "metadata": {
        "id": "EHlt-5uIkyU9"
      }
    },
    {
      "cell_type": "markdown",
      "source": [
        "# Harus menggunakan model sequential."
      ],
      "metadata": {
        "id": "wzuZWkp_lHS6"
      }
    },
    {
      "cell_type": "markdown",
      "source": [
        "# Harus menggunakan Embedding."
      ],
      "metadata": {
        "id": "VquhN3kMlCqg"
      }
    },
    {
      "cell_type": "code",
      "execution_count": 29,
      "metadata": {
        "id": "h4cQ1sMDjbFh"
      },
      "outputs": [],
      "source": [
        "#proses modelling untuk sequential\n",
        "model = tf.keras.Sequential([\n",
        "    tf.keras.layers.Embedding(input_dim=3570, output_dim=64,input_length=max_len),\n",
        "    tf.keras.layers.LSTM(128, return_sequences=True),\n",
        "    tf.keras.layers.GlobalMaxPooling1D(),\n",
        "    tf.keras.layers.BatchNormalization(),\n",
        "    tf.keras.layers.Dense(128, activation='relu'),\n",
        "    tf.keras.layers.Dropout(0.5),\n",
        "    tf.keras.layers.Dense(64, activation='relu'),\n",
        "    tf.keras.layers.Dropout(0.2),\n",
        "    tf.keras.layers.Dense(5, activation='softmax')\n",
        "])"
      ]
    },
    {
      "cell_type": "code",
      "execution_count": 30,
      "metadata": {
        "colab": {
          "base_uri": "https://localhost:8080/"
        },
        "id": "UkS3OGcmlrev",
        "outputId": "939fe7dd-2056-4449-ef47-208ee7e92b61"
      },
      "outputs": [
        {
          "output_type": "stream",
          "name": "stdout",
          "text": [
            "Model: \"sequential_1\"\n",
            "_________________________________________________________________\n",
            " Layer (type)                Output Shape              Param #   \n",
            "=================================================================\n",
            " embedding_1 (Embedding)     (None, 3570, 64)          228480    \n",
            "                                                                 \n",
            " lstm_1 (LSTM)               (None, 3570, 128)         98816     \n",
            "                                                                 \n",
            " global_max_pooling1d_1 (Gl  (None, 128)               0         \n",
            " obalMaxPooling1D)                                               \n",
            "                                                                 \n",
            " batch_normalization_1 (Bat  (None, 128)               512       \n",
            " chNormalization)                                                \n",
            "                                                                 \n",
            " dense_3 (Dense)             (None, 128)               16512     \n",
            "                                                                 \n",
            " dropout_2 (Dropout)         (None, 128)               0         \n",
            "                                                                 \n",
            " dense_4 (Dense)             (None, 64)                8256      \n",
            "                                                                 \n",
            " dropout_3 (Dropout)         (None, 64)                0         \n",
            "                                                                 \n",
            " dense_5 (Dense)             (None, 5)                 325       \n",
            "                                                                 \n",
            "=================================================================\n",
            "Total params: 352901 (1.35 MB)\n",
            "Trainable params: 352645 (1.35 MB)\n",
            "Non-trainable params: 256 (1.00 KB)\n",
            "_________________________________________________________________\n"
          ]
        }
      ],
      "source": [
        "model.summary()"
      ]
    },
    {
      "cell_type": "code",
      "execution_count": 31,
      "metadata": {
        "id": "Dd71Qrk3l5qH"
      },
      "outputs": [],
      "source": [
        "#compile dan fit model dengan adam optimizer dan loss categorical crossentropy\n",
        "model.compile(optimizer='adam', metrics=['accuracy'], loss='categorical_crossentropy')"
      ]
    },
    {
      "cell_type": "code",
      "execution_count": 35,
      "metadata": {
        "id": "55VYQBa0mN4Y"
      },
      "outputs": [],
      "source": [
        "models_dir = 'save_models'\n",
        "if not os.path.exists(models_dir):\n",
        "  os.makedirs(models_dir)\n",
        "\n",
        "checkpointer = ModelCheckpoint(filepath=os.path.join(models_dir, 'model.hdf5'),\n",
        "                               monitor='val_accuracy', mode='max',\n",
        "                               verbose=1, save_best_only=True)\n",
        "\n",
        "reduce_learning_rate = ReduceLROnPlateau(monitor='val_loss', factor=0.2, patience=1, min_lr=0.0001)\n",
        "\n",
        "class myCallback(tf.keras.callbacks.Callback):\n",
        "  def on_epoch_end(self, epoch, logs={}):\n",
        "    if(logs.get('accuracy')>0.75 and logs.get('val_accuracy')>0.75):\n",
        "      self.model.stop_training = True\n",
        "      print(\"\\nThe accuracy of the training set and the validation set has reached > 75%!\")\n",
        "\n",
        "stop_callback = myCallback()\n",
        "\n",
        "callbacks = [stop_callback, checkpointer, reduce_learning_rate]"
      ]
    },
    {
      "cell_type": "markdown",
      "source": [
        "# Akurasi dari model minimal 75% pada train set dan validation set."
      ],
      "metadata": {
        "id": "bHFGghkqlZ5P"
      }
    },
    {
      "cell_type": "code",
      "execution_count": 33,
      "metadata": {
        "colab": {
          "base_uri": "https://localhost:8080/"
        },
        "id": "x4srW58amX0E",
        "outputId": "0bfa7fa9-7744-454c-803d-18df3579c134"
      },
      "outputs": [
        {
          "output_type": "stream",
          "name": "stdout",
          "text": [
            "Epoch 1/50\n",
            "\n",
            "Epoch 1: val_accuracy improved from -inf to 0.43820, saving model to save_models/model.hdf5\n",
            "56/56 - 402s - loss: 1.3123 - accuracy: 0.4854 - val_loss: 1.4781 - val_accuracy: 0.4382 - lr: 0.0010 - 402s/epoch - 7s/step\n",
            "Epoch 2/50\n"
          ]
        },
        {
          "output_type": "stream",
          "name": "stderr",
          "text": [
            "/usr/local/lib/python3.10/dist-packages/keras/src/engine/training.py:3103: UserWarning: You are saving your model as an HDF5 file via `model.save()`. This file format is considered legacy. We recommend using instead the native Keras format, e.g. `model.save('my_model.keras')`.\n",
            "  saving_api.save_model(\n"
          ]
        },
        {
          "output_type": "stream",
          "name": "stdout",
          "text": [
            "\n",
            "Epoch 2: val_accuracy improved from 0.43820 to 0.46966, saving model to save_models/model.hdf5\n",
            "56/56 - 398s - loss: 0.3008 - accuracy: 0.9107 - val_loss: 1.2580 - val_accuracy: 0.4697 - lr: 0.0010 - 398s/epoch - 7s/step\n",
            "Epoch 3/50\n",
            "\n",
            "Epoch 3: val_accuracy improved from 0.46966 to 0.73034, saving model to save_models/model.hdf5\n",
            "56/56 - 382s - loss: 0.0664 - accuracy: 0.9815 - val_loss: 0.9902 - val_accuracy: 0.7303 - lr: 0.0010 - 382s/epoch - 7s/step\n",
            "Epoch 4/50\n",
            "\n",
            "The accuracy of the training set and the validation set has reached > 90%!\n",
            "\n",
            "Epoch 4: val_accuracy improved from 0.73034 to 0.83596, saving model to save_models/model.hdf5\n",
            "56/56 - 400s - loss: 0.0177 - accuracy: 0.9972 - val_loss: 0.6589 - val_accuracy: 0.8360 - lr: 0.0010 - 400s/epoch - 7s/step\n"
          ]
        }
      ],
      "source": [
        "#menampilkan history berdasarkan epoch\n",
        "history = model.fit(padded_train, label_train, epochs=50, validation_data=(padded_test, label_test), verbose=2, callbacks=[callbacks])"
      ]
    },
    {
      "cell_type": "code",
      "execution_count": 34,
      "metadata": {
        "colab": {
          "base_uri": "https://localhost:8080/"
        },
        "id": "Mm2aqJGAoW4r",
        "outputId": "961cb378-92fa-4897-bb78-104171827a19"
      },
      "outputs": [
        {
          "output_type": "stream",
          "name": "stdout",
          "text": [
            "14/14 [==============================] - 25s 2s/step - loss: 0.6589 - accuracy: 0.8360\n"
          ]
        },
        {
          "output_type": "execute_result",
          "data": {
            "text/plain": [
              "[0.6589277982711792, 0.8359550833702087]"
            ]
          },
          "metadata": {},
          "execution_count": 34
        }
      ],
      "source": [
        "model.evaluate(padded_test, label_test)"
      ]
    },
    {
      "cell_type": "code",
      "source": [
        "# Fungsi untuk melatih dan menguji model\n",
        "def train_and_evaluate_model():\n",
        "    df = read_dataset()\n",
        "    padded_sequences, tokenizer = preprocess_text(df)\n",
        "\n",
        "    labels = df['label']  # Gantilah 'label' dengan nama kolom target pada dataset Anda\n",
        "\n",
        "    # Membagi dataset\n",
        "    X_train, X_val, y_train, y_val = split_dataset(padded_sequences, labels)\n",
        "\n",
        "    # Membuat dan melatih model\n",
        "    model = create_lstm_model(len(tokenizer.word_index) + 1, 50, len(X_train[0]))\n",
        "    history = model.fit(X_train, y_train, epochs=10, batch_size=32, validation_data=(X_val, y_val))\n",
        "\n",
        "    # Evaluasi model\n",
        "    _, train_acc = model.evaluate(X_train, y_train)\n",
        "    _, val_acc = model.evaluate(X_val, y_val)\n",
        "\n",
        "    print(f'Training Accuracy: {train_acc*100:.2f}%')\n",
        "    print(f'Validation Accuracy: {val_acc*100:.2f}%')\n",
        "\n",
        "    # Visualisasi akurasi dan loss\n",
        "    plot_history(history)\n",
        "\n",
        "    # Confusion Matrix\n",
        "    y_pred = model.predict_classes(X_val)\n",
        "    plot_confusion_matrix(y_val, y_pred)"
      ],
      "metadata": {
        "id": "f1DqnCntj2w9"
      },
      "execution_count": 36,
      "outputs": []
    },
    {
      "cell_type": "code",
      "execution_count": 37,
      "metadata": {
        "id": "aN22QA-qtAWH",
        "colab": {
          "base_uri": "https://localhost:8080/",
          "height": 484
        },
        "outputId": "9d9983f4-3512-444d-9b34-c63d23e508ce"
      },
      "outputs": [
        {
          "output_type": "display_data",
          "data": {
            "text/plain": [
              "<Figure size 1200x600 with 2 Axes>"
            ],
            "image/png": "[encoded data removed]"
          },
          "metadata": {}
        }
      ],
      "source": [
        "import matplotlib.pyplot as plt\n",
        "\n",
        "# Melatih model\n",
        "#history = model.fit(padded_train, label_train, epochs=50, validation_data=(padded_test, label_test), verbose=2, callbacks=[callbacks])\n",
        "\n",
        "# Menampilkan grafik hasil pelatihan\n",
        "plt.figure(figsize=(12, 6))\n",
        "\n",
        "# Grafik akurasi pelatihan dan validasi\n",
        "plt.subplot(1, 2, 1)\n",
        "plt.plot(history.history['accuracy'], label='Training Accuracy')\n",
        "plt.plot(history.history['val_accuracy'], label='Validation Accuracy')\n",
        "plt.title('Training and Validation Accuracy')\n",
        "plt.xlabel('Epoch')\n",
        "plt.ylabel('Accuracy')\n",
        "plt.legend()\n",
        "\n",
        "# Grafik loss pelatihan dan validasi\n",
        "plt.subplot(1, 2, 2)\n",
        "plt.plot(history.history['loss'], label='Training Loss')\n",
        "plt.plot(history.history['val_loss'], label='Validation Loss')\n",
        "plt.title('Training and Validation Loss')\n",
        "plt.xlabel('Epoch')\n",
        "plt.ylabel('Loss')\n",
        "plt.legend()\n",
        "\n",
        "plt.tight_layout()\n",
        "plt.show()\n"
      ]
    }
  ],
  "metadata": {
    "colab": {
      "provenance": []
    },
    "kernelspec": {
      "display_name": "Python 3",
      "name": "python3"
    },
    "language_info": {
      "name": "python"
    }
  },
  "nbformat": 4,
  "nbformat_minor": 0
}